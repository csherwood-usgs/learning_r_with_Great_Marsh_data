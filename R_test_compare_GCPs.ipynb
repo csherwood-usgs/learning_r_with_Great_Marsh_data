{
 "cells": [
  {
   "cell_type": "markdown",
   "metadata": {},
   "source": [
    "### R_test_compare_GCPs\n",
    "\n",
    "* Read in some UTM GCP locations and compute distances\n",
    "* First, install `tidyverse` using `conda install -c r r-tidyverse `"
   ]
  },
  {
   "cell_type": "code",
   "execution_count": 5,
   "metadata": {},
   "outputs": [],
   "source": [
    "library(tidyverse)"
   ]
  },
  {
   "cell_type": "code",
   "execution_count": 6,
   "metadata": {},
   "outputs": [
    {
     "name": "stderr",
     "output_type": "stream",
     "text": [
      "Parsed with column specification:\n",
      "cols(\n",
      "  X1 = \u001b[31mcol_character()\u001b[39m,\n",
      "  X2 = \u001b[32mcol_double()\u001b[39m,\n",
      "  X3 = \u001b[32mcol_double()\u001b[39m,\n",
      "  X4 = \u001b[32mcol_double()\u001b[39m\n",
      ")\n"
     ]
    },
    {
     "data": {
      "text/html": [
       "<table>\n",
       "<caption>A tibble: 32 × 3</caption>\n",
       "<thead>\n",
       "\t<tr><th scope=col>label</th><th scope=col>easting</th><th scope=col>northing</th></tr>\n",
       "\t<tr><th scope=col>&lt;chr&gt;</th><th scope=col>&lt;dbl&gt;</th><th scope=col>&lt;dbl&gt;</th></tr>\n",
       "</thead>\n",
       "<tbody>\n",
       "\t<tr><td>P1C   </td><td>384946.7</td><td>4621209</td></tr>\n",
       "\t<tr><td>T25C  </td><td>384930.8</td><td>4621045</td></tr>\n",
       "\t<tr><td>P6C   </td><td>385164.6</td><td>4621150</td></tr>\n",
       "\t<tr><td>T26C  </td><td>385142.2</td><td>4621009</td></tr>\n",
       "\t<tr><td>P2C   </td><td>385450.6</td><td>4621075</td></tr>\n",
       "\t<tr><td>T27C  </td><td>385286.6</td><td>4620806</td></tr>\n",
       "\t<tr><td>T23C  </td><td>385559.0</td><td>4620869</td></tr>\n",
       "\t<tr><td>T29C  </td><td>385689.5</td><td>4620734</td></tr>\n",
       "\t<tr><td>P4C   </td><td>385776.8</td><td>4621056</td></tr>\n",
       "\t<tr><td>T28C  </td><td>385739.5</td><td>4620917</td></tr>\n",
       "\t<tr><td>T30C  </td><td>385945.7</td><td>4620617</td></tr>\n",
       "\t<tr><td>T22C  </td><td>385941.8</td><td>4620856</td></tr>\n",
       "\t<tr><td>G1C   </td><td>385982.5</td><td>4621076</td></tr>\n",
       "\t<tr><td>T31C  </td><td>386196.5</td><td>4620602</td></tr>\n",
       "\t<tr><td>T32C  </td><td>386337.3</td><td>4620596</td></tr>\n",
       "\t<tr><td>T18C  </td><td>386527.3</td><td>4620671</td></tr>\n",
       "\t<tr><td>T33C  </td><td>386573.8</td><td>4620386</td></tr>\n",
       "\t<tr><td>T19C  </td><td>386767.8</td><td>4620372</td></tr>\n",
       "\t<tr><td>T11C  </td><td>386656.2</td><td>4620794</td></tr>\n",
       "\t<tr><td>T13C  </td><td>386858.9</td><td>4620936</td></tr>\n",
       "\t<tr><td>T20C  </td><td>386619.6</td><td>4621019</td></tr>\n",
       "\t<tr><td>T17C  </td><td>386320.1</td><td>4620787</td></tr>\n",
       "\t<tr><td>T21C  </td><td>386106.4</td><td>4620798</td></tr>\n",
       "\t<tr><td>P5C   </td><td>386166.2</td><td>4621043</td></tr>\n",
       "\t<tr><td>G2C   </td><td>386310.9</td><td>4621024</td></tr>\n",
       "\t<tr><td>DISCOC</td><td>386215.6</td><td>4621516</td></tr>\n",
       "\t<tr><td>T6C   </td><td>386152.3</td><td>4621469</td></tr>\n",
       "\t<tr><td>G3C   </td><td>385924.9</td><td>4621594</td></tr>\n",
       "\t<tr><td>G4C   </td><td>386360.8</td><td>4621528</td></tr>\n",
       "\t<tr><td>T5C   </td><td>386169.4</td><td>4621201</td></tr>\n",
       "\t<tr><td>T8C   </td><td>386314.6</td><td>4621317</td></tr>\n",
       "\t<tr><td>T1C   </td><td>386001.2</td><td>4621284</td></tr>\n",
       "</tbody>\n",
       "</table>\n"
      ],
      "text/latex": [
       "A tibble: 32 × 3\n",
       "\\begin{tabular}{r|lll}\n",
       " label & easting & northing\\\\\n",
       " <chr> & <dbl> & <dbl>\\\\\n",
       "\\hline\n",
       "\t P1C    & 384946.7 & 4621209\\\\\n",
       "\t T25C   & 384930.8 & 4621045\\\\\n",
       "\t P6C    & 385164.6 & 4621150\\\\\n",
       "\t T26C   & 385142.2 & 4621009\\\\\n",
       "\t P2C    & 385450.6 & 4621075\\\\\n",
       "\t T27C   & 385286.6 & 4620806\\\\\n",
       "\t T23C   & 385559.0 & 4620869\\\\\n",
       "\t T29C   & 385689.5 & 4620734\\\\\n",
       "\t P4C    & 385776.8 & 4621056\\\\\n",
       "\t T28C   & 385739.5 & 4620917\\\\\n",
       "\t T30C   & 385945.7 & 4620617\\\\\n",
       "\t T22C   & 385941.8 & 4620856\\\\\n",
       "\t G1C    & 385982.5 & 4621076\\\\\n",
       "\t T31C   & 386196.5 & 4620602\\\\\n",
       "\t T32C   & 386337.3 & 4620596\\\\\n",
       "\t T18C   & 386527.3 & 4620671\\\\\n",
       "\t T33C   & 386573.8 & 4620386\\\\\n",
       "\t T19C   & 386767.8 & 4620372\\\\\n",
       "\t T11C   & 386656.2 & 4620794\\\\\n",
       "\t T13C   & 386858.9 & 4620936\\\\\n",
       "\t T20C   & 386619.6 & 4621019\\\\\n",
       "\t T17C   & 386320.1 & 4620787\\\\\n",
       "\t T21C   & 386106.4 & 4620798\\\\\n",
       "\t P5C    & 386166.2 & 4621043\\\\\n",
       "\t G2C    & 386310.9 & 4621024\\\\\n",
       "\t DISCOC & 386215.6 & 4621516\\\\\n",
       "\t T6C    & 386152.3 & 4621469\\\\\n",
       "\t G3C    & 385924.9 & 4621594\\\\\n",
       "\t G4C    & 386360.8 & 4621528\\\\\n",
       "\t T5C    & 386169.4 & 4621201\\\\\n",
       "\t T8C    & 386314.6 & 4621317\\\\\n",
       "\t T1C    & 386001.2 & 4621284\\\\\n",
       "\\end{tabular}\n"
      ],
      "text/markdown": [
       "\n",
       "A tibble: 32 × 3\n",
       "\n",
       "| label &lt;chr&gt; | easting &lt;dbl&gt; | northing &lt;dbl&gt; |\n",
       "|---|---|---|\n",
       "| P1C    | 384946.7 | 4621209 |\n",
       "| T25C   | 384930.8 | 4621045 |\n",
       "| P6C    | 385164.6 | 4621150 |\n",
       "| T26C   | 385142.2 | 4621009 |\n",
       "| P2C    | 385450.6 | 4621075 |\n",
       "| T27C   | 385286.6 | 4620806 |\n",
       "| T23C   | 385559.0 | 4620869 |\n",
       "| T29C   | 385689.5 | 4620734 |\n",
       "| P4C    | 385776.8 | 4621056 |\n",
       "| T28C   | 385739.5 | 4620917 |\n",
       "| T30C   | 385945.7 | 4620617 |\n",
       "| T22C   | 385941.8 | 4620856 |\n",
       "| G1C    | 385982.5 | 4621076 |\n",
       "| T31C   | 386196.5 | 4620602 |\n",
       "| T32C   | 386337.3 | 4620596 |\n",
       "| T18C   | 386527.3 | 4620671 |\n",
       "| T33C   | 386573.8 | 4620386 |\n",
       "| T19C   | 386767.8 | 4620372 |\n",
       "| T11C   | 386656.2 | 4620794 |\n",
       "| T13C   | 386858.9 | 4620936 |\n",
       "| T20C   | 386619.6 | 4621019 |\n",
       "| T17C   | 386320.1 | 4620787 |\n",
       "| T21C   | 386106.4 | 4620798 |\n",
       "| P5C    | 386166.2 | 4621043 |\n",
       "| G2C    | 386310.9 | 4621024 |\n",
       "| DISCOC | 386215.6 | 4621516 |\n",
       "| T6C    | 386152.3 | 4621469 |\n",
       "| G3C    | 385924.9 | 4621594 |\n",
       "| G4C    | 386360.8 | 4621528 |\n",
       "| T5C    | 386169.4 | 4621201 |\n",
       "| T8C    | 386314.6 | 4621317 |\n",
       "| T1C    | 386001.2 | 4621284 |\n",
       "\n"
      ],
      "text/plain": [
       "   label  easting  northing\n",
       "1  P1C    384946.7 4621209 \n",
       "2  T25C   384930.8 4621045 \n",
       "3  P6C    385164.6 4621150 \n",
       "4  T26C   385142.2 4621009 \n",
       "5  P2C    385450.6 4621075 \n",
       "6  T27C   385286.6 4620806 \n",
       "7  T23C   385559.0 4620869 \n",
       "8  T29C   385689.5 4620734 \n",
       "9  P4C    385776.8 4621056 \n",
       "10 T28C   385739.5 4620917 \n",
       "11 T30C   385945.7 4620617 \n",
       "12 T22C   385941.8 4620856 \n",
       "13 G1C    385982.5 4621076 \n",
       "14 T31C   386196.5 4620602 \n",
       "15 T32C   386337.3 4620596 \n",
       "16 T18C   386527.3 4620671 \n",
       "17 T33C   386573.8 4620386 \n",
       "18 T19C   386767.8 4620372 \n",
       "19 T11C   386656.2 4620794 \n",
       "20 T13C   386858.9 4620936 \n",
       "21 T20C   386619.6 4621019 \n",
       "22 T17C   386320.1 4620787 \n",
       "23 T21C   386106.4 4620798 \n",
       "24 P5C    386166.2 4621043 \n",
       "25 G2C    386310.9 4621024 \n",
       "26 DISCOC 386215.6 4621516 \n",
       "27 T6C    386152.3 4621469 \n",
       "28 G3C    385924.9 4621594 \n",
       "29 G4C    386360.8 4621528 \n",
       "30 T5C    386169.4 4621201 \n",
       "31 T8C    386314.6 4621317 \n",
       "32 T1C    386001.2 4621284 "
      ]
     },
     "metadata": {},
     "output_type": "display_data"
    }
   ],
   "source": [
    "# read in the target locations picked from the JALBTCX ortho\n",
    "\n",
    "fn <- \"D:/crs/proj/2018-08_JALBTCX_experiment/r_experiment/centered_points.csv\"\n",
    "targets <- read_csv(file=fn, col_names=FALSE)\n",
    "\n",
    "# remove last column...not needed\n",
    "targets <- targets[,c(1,2,3)]\n",
    "\n",
    "# rename columns (could have put a first row in file with column labels)\n",
    "names(targets)[names(targets)==\"X1\"]<-\"label\"\n",
    "names(targets)[names(targets)==\"X2\"]<-\"easting\"\n",
    "names(targets)[names(targets)==\"X3\"]<-\"northing\"\n",
    "\n",
    "targets"
   ]
  },
  {
   "cell_type": "code",
   "execution_count": 12,
   "metadata": {},
   "outputs": [
    {
     "data": {
      "text/html": [
       "<table>\n",
       "<caption>A data.frame: 6 × 4</caption>\n",
       "<thead>\n",
       "\t<tr><th scope=col>northing</th><th scope=col>easting</th><th scope=col>elevation</th><th scope=col>label</th></tr>\n",
       "\t<tr><th scope=col>&lt;dbl&gt;</th><th scope=col>&lt;dbl&gt;</th><th scope=col>&lt;dbl&gt;</th><th scope=col>&lt;fct&gt;</th></tr>\n",
       "</thead>\n",
       "<tbody>\n",
       "\t<tr><td>4620640</td><td>386751.2</td><td>1.6393</td><td>TARGET9</td></tr>\n",
       "\t<tr><td>4621317</td><td>386314.7</td><td>6.2556</td><td>T8     </td></tr>\n",
       "\t<tr><td>4621317</td><td>386314.7</td><td>6.2573</td><td>T8     </td></tr>\n",
       "\t<tr><td>4621317</td><td>386314.7</td><td>6.2363</td><td>T8     </td></tr>\n",
       "\t<tr><td>4621469</td><td>386152.2</td><td>9.1236</td><td>T6     </td></tr>\n",
       "\t<tr><td>4621469</td><td>386152.2</td><td>9.1103</td><td>T6     </td></tr>\n",
       "</tbody>\n",
       "</table>\n"
      ],
      "text/latex": [
       "A data.frame: 6 × 4\n",
       "\\begin{tabular}{r|llll}\n",
       " northing & easting & elevation & label\\\\\n",
       " <dbl> & <dbl> & <dbl> & <fct>\\\\\n",
       "\\hline\n",
       "\t 4620640 & 386751.2 & 1.6393 & TARGET9\\\\\n",
       "\t 4621317 & 386314.7 & 6.2556 & T8     \\\\\n",
       "\t 4621317 & 386314.7 & 6.2573 & T8     \\\\\n",
       "\t 4621317 & 386314.7 & 6.2363 & T8     \\\\\n",
       "\t 4621469 & 386152.2 & 9.1236 & T6     \\\\\n",
       "\t 4621469 & 386152.2 & 9.1103 & T6     \\\\\n",
       "\\end{tabular}\n"
      ],
      "text/markdown": [
       "\n",
       "A data.frame: 6 × 4\n",
       "\n",
       "| northing &lt;dbl&gt; | easting &lt;dbl&gt; | elevation &lt;dbl&gt; | label &lt;fct&gt; |\n",
       "|---|---|---|---|\n",
       "| 4620640 | 386751.2 | 1.6393 | TARGET9 |\n",
       "| 4621317 | 386314.7 | 6.2556 | T8      |\n",
       "| 4621317 | 386314.7 | 6.2573 | T8      |\n",
       "| 4621317 | 386314.7 | 6.2363 | T8      |\n",
       "| 4621469 | 386152.2 | 9.1236 | T6      |\n",
       "| 4621469 | 386152.2 | 9.1103 | T6      |\n",
       "\n"
      ],
      "text/plain": [
       "  northing easting  elevation label  \n",
       "1 4620640  386751.2 1.6393    TARGET9\n",
       "2 4621317  386314.7 6.2556    T8     \n",
       "3 4621317  386314.7 6.2573    T8     \n",
       "4 4621317  386314.7 6.2363    T8     \n",
       "5 4621469  386152.2 9.1236    T6     \n",
       "6 4621469  386152.2 9.1103    T6     "
      ]
     },
     "metadata": {},
     "output_type": "display_data"
    }
   ],
   "source": [
    "# read in the surveyed target locations\n",
    "# this uses the base version of read.csv just to mix it up\n",
    "fn2 <- \"D:/crs/proj/2018-08_JALBTCX_experiment/r_experiment/targets_greatmarsh_rtk_edited.csv\"\n",
    "gcps <- read.csv(file=fn2, header=TRUE, sep=\",\")\n",
    "\n",
    "# rename the columns\n",
    "names(gcps)[names(gcps)==\"Note\"]<-\"label\"\n",
    "names(gcps)[names(gcps)==\"Local_N\"]<-\"northing\"\n",
    "names(gcps)[names(gcps)==\"Local_E\"]<-\"easting\"\n",
    "names(gcps)[names(gcps)==\"Local_Z\"]<-\"elevation\"\n",
    "\n",
    "head(gcps)"
   ]
  },
  {
   "cell_type": "code",
   "execution_count": 14,
   "metadata": {},
   "outputs": [
    {
     "data": {
      "text/html": [
       "<table>\n",
       "<caption>A data.frame: 43 × 4</caption>\n",
       "<thead>\n",
       "\t<tr><th></th><th scope=col>northing</th><th scope=col>easting</th><th scope=col>elevation</th><th scope=col>label</th></tr>\n",
       "\t<tr><th></th><th scope=col>&lt;dbl&gt;</th><th scope=col>&lt;dbl&gt;</th><th scope=col>&lt;dbl&gt;</th><th scope=col>&lt;fct&gt;</th></tr>\n",
       "</thead>\n",
       "<tbody>\n",
       "\t<tr><th scope=row>19</th><td>4621045</td><td>384930.8</td><td> 1.4434</td><td>T25         </td></tr>\n",
       "\t<tr><th scope=row>36</th><td>4621209</td><td>384946.7</td><td> 1.4630</td><td>P1          </td></tr>\n",
       "\t<tr><th scope=row>18</th><td>4621009</td><td>385142.1</td><td> 1.4518</td><td>T26         </td></tr>\n",
       "\t<tr><th scope=row>32</th><td>4621150</td><td>385164.6</td><td> 1.5575</td><td>P6          </td></tr>\n",
       "\t<tr><th scope=row>17</th><td>4620807</td><td>385286.7</td><td> 1.6320</td><td>T27         </td></tr>\n",
       "\t<tr><th scope=row>35</th><td>4621075</td><td>385450.6</td><td> 1.6220</td><td>P2          </td></tr>\n",
       "\t<tr><th scope=row>20</th><td>4620869</td><td>385559.0</td><td> 1.5075</td><td>T23         </td></tr>\n",
       "\t<tr><th scope=row>15</th><td>4620734</td><td>385689.6</td><td> 1.6204</td><td>T29         </td></tr>\n",
       "\t<tr><th scope=row>16</th><td>4620917</td><td>385739.5</td><td> 1.5344</td><td>T28         </td></tr>\n",
       "\t<tr><th scope=row>34</th><td>4621056</td><td>385776.9</td><td> 1.5630</td><td>P4          </td></tr>\n",
       "\t<tr><th scope=row>42</th><td>4621594</td><td>385924.9</td><td> 3.2540</td><td>GLITTER-WEST</td></tr>\n",
       "\t<tr><th scope=row>38</th><td>4621594</td><td>385924.9</td><td> 3.2883</td><td>G3          </td></tr>\n",
       "\t<tr><th scope=row>21</th><td>4620856</td><td>385941.8</td><td> 1.4494</td><td>T22         </td></tr>\n",
       "\t<tr><th scope=row>14</th><td>4620617</td><td>385945.7</td><td> 1.6698</td><td>T30         </td></tr>\n",
       "\t<tr><th scope=row>41</th><td>4621076</td><td>385982.5</td><td> 2.4071</td><td>G1          </td></tr>\n",
       "\t<tr><th scope=row>31</th><td>4621285</td><td>386001.1</td><td> 7.7577</td><td>T1          </td></tr>\n",
       "\t<tr><th scope=row>30</th><td>4621285</td><td>386001.1</td><td> 7.7547</td><td>T1          </td></tr>\n",
       "\t<tr><th scope=row>29</th><td>4621285</td><td>386001.1</td><td> 7.7760</td><td>T1          </td></tr>\n",
       "\t<tr><th scope=row>22</th><td>4620798</td><td>386106.5</td><td> 1.6315</td><td>T21         </td></tr>\n",
       "\t<tr><th scope=row>7</th><td>4621469</td><td>386152.2</td><td> 9.1033</td><td>T6          </td></tr>\n",
       "\t<tr><th scope=row>6</th><td>4621469</td><td>386152.2</td><td> 9.1103</td><td>T6          </td></tr>\n",
       "\t<tr><th scope=row>5</th><td>4621469</td><td>386152.2</td><td> 9.1236</td><td>T6          </td></tr>\n",
       "\t<tr><th scope=row>33</th><td>4621042</td><td>386166.2</td><td> 1.5388</td><td>P5          </td></tr>\n",
       "\t<tr><th scope=row>8</th><td>4621200</td><td>386169.4</td><td>10.2482</td><td>T5          </td></tr>\n",
       "\t<tr><th scope=row>9</th><td>4621200</td><td>386169.4</td><td>10.2339</td><td>T5          </td></tr>\n",
       "\t<tr><th scope=row>10</th><td>4621201</td><td>386169.4</td><td>10.2389</td><td>LASTONE=T5  </td></tr>\n",
       "\t<tr><th scope=row>13</th><td>4620602</td><td>386196.4</td><td> 1.6093</td><td>T31         </td></tr>\n",
       "\t<tr><th scope=row>43</th><td>4621516</td><td>386215.4</td><td> 4.4769</td><td>DISCO       </td></tr>\n",
       "\t<tr><th scope=row>39</th><td>4621024</td><td>386310.8</td><td> 1.6486</td><td>G2          </td></tr>\n",
       "\t<tr><th scope=row>4</th><td>4621317</td><td>386314.7</td><td> 6.2363</td><td>T8          </td></tr>\n",
       "\t<tr><th scope=row>2</th><td>4621317</td><td>386314.7</td><td> 6.2556</td><td>T8          </td></tr>\n",
       "\t<tr><th scope=row>3</th><td>4621317</td><td>386314.7</td><td> 6.2573</td><td>T8          </td></tr>\n",
       "\t<tr><th scope=row>26</th><td>4620787</td><td>386320.1</td><td> 1.5839</td><td>TARGET17    </td></tr>\n",
       "\t<tr><th scope=row>12</th><td>4620596</td><td>386337.4</td><td> 1.6870</td><td>T32         </td></tr>\n",
       "\t<tr><th scope=row>40</th><td>4621528</td><td>386360.8</td><td> 2.6960</td><td>GLITTER-EAST</td></tr>\n",
       "\t<tr><th scope=row>37</th><td>4621528</td><td>386360.9</td><td> 2.6843</td><td>G4          </td></tr>\n",
       "\t<tr><th scope=row>25</th><td>4620671</td><td>386527.3</td><td> 1.6226</td><td>TARGET18    </td></tr>\n",
       "\t<tr><th scope=row>11</th><td>4620386</td><td>386573.8</td><td> 1.7186</td><td>TARGET33    </td></tr>\n",
       "\t<tr><th scope=row>23</th><td>4621019</td><td>386619.6</td><td> 1.4216</td><td>TARGET20    </td></tr>\n",
       "\t<tr><th scope=row>28</th><td>4620794</td><td>386656.3</td><td> 1.4609</td><td>TARGET11    </td></tr>\n",
       "\t<tr><th scope=row>1</th><td>4620640</td><td>386751.2</td><td> 1.6393</td><td>TARGET9     </td></tr>\n",
       "\t<tr><th scope=row>24</th><td>4620372</td><td>386767.6</td><td> 1.5753</td><td>TARGET19    </td></tr>\n",
       "\t<tr><th scope=row>27</th><td>4620936</td><td>386858.9</td><td> 1.4908</td><td>TARGET13    </td></tr>\n",
       "</tbody>\n",
       "</table>\n"
      ],
      "text/latex": [
       "A data.frame: 43 × 4\n",
       "\\begin{tabular}{r|llll}\n",
       "  & northing & easting & elevation & label\\\\\n",
       "  & <dbl> & <dbl> & <dbl> & <fct>\\\\\n",
       "\\hline\n",
       "\t19 & 4621045 & 384930.8 &  1.4434 & T25         \\\\\n",
       "\t36 & 4621209 & 384946.7 &  1.4630 & P1          \\\\\n",
       "\t18 & 4621009 & 385142.1 &  1.4518 & T26         \\\\\n",
       "\t32 & 4621150 & 385164.6 &  1.5575 & P6          \\\\\n",
       "\t17 & 4620807 & 385286.7 &  1.6320 & T27         \\\\\n",
       "\t35 & 4621075 & 385450.6 &  1.6220 & P2          \\\\\n",
       "\t20 & 4620869 & 385559.0 &  1.5075 & T23         \\\\\n",
       "\t15 & 4620734 & 385689.6 &  1.6204 & T29         \\\\\n",
       "\t16 & 4620917 & 385739.5 &  1.5344 & T28         \\\\\n",
       "\t34 & 4621056 & 385776.9 &  1.5630 & P4          \\\\\n",
       "\t42 & 4621594 & 385924.9 &  3.2540 & GLITTER-WEST\\\\\n",
       "\t38 & 4621594 & 385924.9 &  3.2883 & G3          \\\\\n",
       "\t21 & 4620856 & 385941.8 &  1.4494 & T22         \\\\\n",
       "\t14 & 4620617 & 385945.7 &  1.6698 & T30         \\\\\n",
       "\t41 & 4621076 & 385982.5 &  2.4071 & G1          \\\\\n",
       "\t31 & 4621285 & 386001.1 &  7.7577 & T1          \\\\\n",
       "\t30 & 4621285 & 386001.1 &  7.7547 & T1          \\\\\n",
       "\t29 & 4621285 & 386001.1 &  7.7760 & T1          \\\\\n",
       "\t22 & 4620798 & 386106.5 &  1.6315 & T21         \\\\\n",
       "\t7 & 4621469 & 386152.2 &  9.1033 & T6          \\\\\n",
       "\t6 & 4621469 & 386152.2 &  9.1103 & T6          \\\\\n",
       "\t5 & 4621469 & 386152.2 &  9.1236 & T6          \\\\\n",
       "\t33 & 4621042 & 386166.2 &  1.5388 & P5          \\\\\n",
       "\t8 & 4621200 & 386169.4 & 10.2482 & T5          \\\\\n",
       "\t9 & 4621200 & 386169.4 & 10.2339 & T5          \\\\\n",
       "\t10 & 4621201 & 386169.4 & 10.2389 & LASTONE=T5  \\\\\n",
       "\t13 & 4620602 & 386196.4 &  1.6093 & T31         \\\\\n",
       "\t43 & 4621516 & 386215.4 &  4.4769 & DISCO       \\\\\n",
       "\t39 & 4621024 & 386310.8 &  1.6486 & G2          \\\\\n",
       "\t4 & 4621317 & 386314.7 &  6.2363 & T8          \\\\\n",
       "\t2 & 4621317 & 386314.7 &  6.2556 & T8          \\\\\n",
       "\t3 & 4621317 & 386314.7 &  6.2573 & T8          \\\\\n",
       "\t26 & 4620787 & 386320.1 &  1.5839 & TARGET17    \\\\\n",
       "\t12 & 4620596 & 386337.4 &  1.6870 & T32         \\\\\n",
       "\t40 & 4621528 & 386360.8 &  2.6960 & GLITTER-EAST\\\\\n",
       "\t37 & 4621528 & 386360.9 &  2.6843 & G4          \\\\\n",
       "\t25 & 4620671 & 386527.3 &  1.6226 & TARGET18    \\\\\n",
       "\t11 & 4620386 & 386573.8 &  1.7186 & TARGET33    \\\\\n",
       "\t23 & 4621019 & 386619.6 &  1.4216 & TARGET20    \\\\\n",
       "\t28 & 4620794 & 386656.3 &  1.4609 & TARGET11    \\\\\n",
       "\t1 & 4620640 & 386751.2 &  1.6393 & TARGET9     \\\\\n",
       "\t24 & 4620372 & 386767.6 &  1.5753 & TARGET19    \\\\\n",
       "\t27 & 4620936 & 386858.9 &  1.4908 & TARGET13    \\\\\n",
       "\\end{tabular}\n"
      ],
      "text/markdown": [
       "\n",
       "A data.frame: 43 × 4\n",
       "\n",
       "| <!--/--> | northing &lt;dbl&gt; | easting &lt;dbl&gt; | elevation &lt;dbl&gt; | label &lt;fct&gt; |\n",
       "|---|---|---|---|---|\n",
       "| 19 | 4621045 | 384930.8 |  1.4434 | T25          |\n",
       "| 36 | 4621209 | 384946.7 |  1.4630 | P1           |\n",
       "| 18 | 4621009 | 385142.1 |  1.4518 | T26          |\n",
       "| 32 | 4621150 | 385164.6 |  1.5575 | P6           |\n",
       "| 17 | 4620807 | 385286.7 |  1.6320 | T27          |\n",
       "| 35 | 4621075 | 385450.6 |  1.6220 | P2           |\n",
       "| 20 | 4620869 | 385559.0 |  1.5075 | T23          |\n",
       "| 15 | 4620734 | 385689.6 |  1.6204 | T29          |\n",
       "| 16 | 4620917 | 385739.5 |  1.5344 | T28          |\n",
       "| 34 | 4621056 | 385776.9 |  1.5630 | P4           |\n",
       "| 42 | 4621594 | 385924.9 |  3.2540 | GLITTER-WEST |\n",
       "| 38 | 4621594 | 385924.9 |  3.2883 | G3           |\n",
       "| 21 | 4620856 | 385941.8 |  1.4494 | T22          |\n",
       "| 14 | 4620617 | 385945.7 |  1.6698 | T30          |\n",
       "| 41 | 4621076 | 385982.5 |  2.4071 | G1           |\n",
       "| 31 | 4621285 | 386001.1 |  7.7577 | T1           |\n",
       "| 30 | 4621285 | 386001.1 |  7.7547 | T1           |\n",
       "| 29 | 4621285 | 386001.1 |  7.7760 | T1           |\n",
       "| 22 | 4620798 | 386106.5 |  1.6315 | T21          |\n",
       "| 7 | 4621469 | 386152.2 |  9.1033 | T6           |\n",
       "| 6 | 4621469 | 386152.2 |  9.1103 | T6           |\n",
       "| 5 | 4621469 | 386152.2 |  9.1236 | T6           |\n",
       "| 33 | 4621042 | 386166.2 |  1.5388 | P5           |\n",
       "| 8 | 4621200 | 386169.4 | 10.2482 | T5           |\n",
       "| 9 | 4621200 | 386169.4 | 10.2339 | T5           |\n",
       "| 10 | 4621201 | 386169.4 | 10.2389 | LASTONE=T5   |\n",
       "| 13 | 4620602 | 386196.4 |  1.6093 | T31          |\n",
       "| 43 | 4621516 | 386215.4 |  4.4769 | DISCO        |\n",
       "| 39 | 4621024 | 386310.8 |  1.6486 | G2           |\n",
       "| 4 | 4621317 | 386314.7 |  6.2363 | T8           |\n",
       "| 2 | 4621317 | 386314.7 |  6.2556 | T8           |\n",
       "| 3 | 4621317 | 386314.7 |  6.2573 | T8           |\n",
       "| 26 | 4620787 | 386320.1 |  1.5839 | TARGET17     |\n",
       "| 12 | 4620596 | 386337.4 |  1.6870 | T32          |\n",
       "| 40 | 4621528 | 386360.8 |  2.6960 | GLITTER-EAST |\n",
       "| 37 | 4621528 | 386360.9 |  2.6843 | G4           |\n",
       "| 25 | 4620671 | 386527.3 |  1.6226 | TARGET18     |\n",
       "| 11 | 4620386 | 386573.8 |  1.7186 | TARGET33     |\n",
       "| 23 | 4621019 | 386619.6 |  1.4216 | TARGET20     |\n",
       "| 28 | 4620794 | 386656.3 |  1.4609 | TARGET11     |\n",
       "| 1 | 4620640 | 386751.2 |  1.6393 | TARGET9      |\n",
       "| 24 | 4620372 | 386767.6 |  1.5753 | TARGET19     |\n",
       "| 27 | 4620936 | 386858.9 |  1.4908 | TARGET13     |\n",
       "\n"
      ],
      "text/plain": [
       "   northing easting  elevation label       \n",
       "19 4621045  384930.8  1.4434   T25         \n",
       "36 4621209  384946.7  1.4630   P1          \n",
       "18 4621009  385142.1  1.4518   T26         \n",
       "32 4621150  385164.6  1.5575   P6          \n",
       "17 4620807  385286.7  1.6320   T27         \n",
       "35 4621075  385450.6  1.6220   P2          \n",
       "20 4620869  385559.0  1.5075   T23         \n",
       "15 4620734  385689.6  1.6204   T29         \n",
       "16 4620917  385739.5  1.5344   T28         \n",
       "34 4621056  385776.9  1.5630   P4          \n",
       "42 4621594  385924.9  3.2540   GLITTER-WEST\n",
       "38 4621594  385924.9  3.2883   G3          \n",
       "21 4620856  385941.8  1.4494   T22         \n",
       "14 4620617  385945.7  1.6698   T30         \n",
       "41 4621076  385982.5  2.4071   G1          \n",
       "31 4621285  386001.1  7.7577   T1          \n",
       "30 4621285  386001.1  7.7547   T1          \n",
       "29 4621285  386001.1  7.7760   T1          \n",
       "22 4620798  386106.5  1.6315   T21         \n",
       "7  4621469  386152.2  9.1033   T6          \n",
       "6  4621469  386152.2  9.1103   T6          \n",
       "5  4621469  386152.2  9.1236   T6          \n",
       "33 4621042  386166.2  1.5388   P5          \n",
       "8  4621200  386169.4 10.2482   T5          \n",
       "9  4621200  386169.4 10.2339   T5          \n",
       "10 4621201  386169.4 10.2389   LASTONE=T5  \n",
       "13 4620602  386196.4  1.6093   T31         \n",
       "43 4621516  386215.4  4.4769   DISCO       \n",
       "39 4621024  386310.8  1.6486   G2          \n",
       "4  4621317  386314.7  6.2363   T8          \n",
       "2  4621317  386314.7  6.2556   T8          \n",
       "3  4621317  386314.7  6.2573   T8          \n",
       "26 4620787  386320.1  1.5839   TARGET17    \n",
       "12 4620596  386337.4  1.6870   T32         \n",
       "40 4621528  386360.8  2.6960   GLITTER-EAST\n",
       "37 4621528  386360.9  2.6843   G4          \n",
       "25 4620671  386527.3  1.6226   TARGET18    \n",
       "11 4620386  386573.8  1.7186   TARGET33    \n",
       "23 4621019  386619.6  1.4216   TARGET20    \n",
       "28 4620794  386656.3  1.4609   TARGET11    \n",
       "1  4620640  386751.2  1.6393   TARGET9     \n",
       "24 4620372  386767.6  1.5753   TARGET19    \n",
       "27 4620936  386858.9  1.4908   TARGET13    "
      ]
     },
     "metadata": {},
     "output_type": "display_data"
    }
   ],
   "source": [
    "# sort\n",
    "gcps <- gcps[order(gcps[,'easting'], gcps[,'northing'], gcps[,'elevation'], gcps[,'label']), ]\n",
    "gcps"
   ]
  },
  {
   "cell_type": "code",
   "execution_count": 26,
   "metadata": {},
   "outputs": [],
   "source": [
    "# make sure we know how to define a function to calculate distance between two x, y, z points\n",
    "distance <- function(x1,y1,z1,x2,y2,z2)\n",
    "{\n",
    "    d = sqrt( (x2-x1)^2 + (y2-y1)^2 + (z2-z1)^2 )\n",
    "    return(d)\n",
    "}"
   ]
  },
  {
   "cell_type": "code",
   "execution_count": 30,
   "metadata": {},
   "outputs": [
    {
     "data": {
      "text/html": [
       "1"
      ],
      "text/latex": [
       "1"
      ],
      "text/markdown": [
       "1"
      ],
      "text/plain": [
       "[1] 1"
      ]
     },
     "metadata": {},
     "output_type": "display_data"
    },
    {
     "data": {
      "text/html": [
       "1.4142135623731"
      ],
      "text/latex": [
       "1.4142135623731"
      ],
      "text/markdown": [
       "1.4142135623731"
      ],
      "text/plain": [
       "[1] 1.414214"
      ]
     },
     "metadata": {},
     "output_type": "display_data"
    },
    {
     "data": {
      "text/html": [
       "1.73205080756888"
      ],
      "text/latex": [
       "1.73205080756888"
      ],
      "text/markdown": [
       "1.73205080756888"
      ],
      "text/plain": [
       "[1] 1.732051"
      ]
     },
     "metadata": {},
     "output_type": "display_data"
    },
    {
     "data": {
      "text/html": [
       "0"
      ],
      "text/latex": [
       "0"
      ],
      "text/markdown": [
       "0"
      ],
      "text/plain": [
       "[1] 0"
      ]
     },
     "metadata": {},
     "output_type": "display_data"
    }
   ],
   "source": [
    "# now test it\n",
    "distance(1,0,0,0,0,0)\n",
    "distance(1,0,1,0,0,0)\n",
    "distance(1,1,1,0,0,0)\n",
    "distance(1.,1.,1.,1.,1.,1.)"
   ]
  },
  {
   "cell_type": "code",
   "execution_count": 32,
   "metadata": {},
   "outputs": [
    {
     "data": {
      "text/html": [
       "<table>\n",
       "<caption>A data.frame: 1 × 4</caption>\n",
       "<thead>\n",
       "\t<tr><th></th><th scope=col>northing</th><th scope=col>easting</th><th scope=col>elevation</th><th scope=col>label</th></tr>\n",
       "\t<tr><th></th><th scope=col>&lt;dbl&gt;</th><th scope=col>&lt;dbl&gt;</th><th scope=col>&lt;dbl&gt;</th><th scope=col>&lt;fct&gt;</th></tr>\n",
       "</thead>\n",
       "<tbody>\n",
       "\t<tr><th scope=row>19</th><td>4621045</td><td>384930.8</td><td>1.4434</td><td>T25</td></tr>\n",
       "</tbody>\n",
       "</table>\n"
      ],
      "text/latex": [
       "A data.frame: 1 × 4\n",
       "\\begin{tabular}{r|llll}\n",
       "  & northing & easting & elevation & label\\\\\n",
       "  & <dbl> & <dbl> & <dbl> & <fct>\\\\\n",
       "\\hline\n",
       "\t19 & 4621045 & 384930.8 & 1.4434 & T25\\\\\n",
       "\\end{tabular}\n"
      ],
      "text/markdown": [
       "\n",
       "A data.frame: 1 × 4\n",
       "\n",
       "| <!--/--> | northing &lt;dbl&gt; | easting &lt;dbl&gt; | elevation &lt;dbl&gt; | label &lt;fct&gt; |\n",
       "|---|---|---|---|---|\n",
       "| 19 | 4621045 | 384930.8 | 1.4434 | T25 |\n",
       "\n"
      ],
      "text/plain": [
       "   northing easting  elevation label\n",
       "19 4621045  384930.8 1.4434    T25  "
      ]
     },
     "metadata": {},
     "output_type": "display_data"
    }
   ],
   "source": [
    "# how do I get one row from a dataframe?\n",
    "gcps[1,]"
   ]
  },
  {
   "cell_type": "code",
   "execution_count": 33,
   "metadata": {},
   "outputs": [],
   "source": [
    "# make a new function that takes two rows as input variables\n",
    "# first, check to make sure we are getting the numbers we want\n",
    "df_dist <- function(dr1, dr2){\n",
    "    dr1[,1]\n",
    "}"
   ]
  },
  {
   "cell_type": "code",
   "execution_count": 34,
   "metadata": {},
   "outputs": [
    {
     "data": {
      "text/html": [
       "4621045.235"
      ],
      "text/latex": [
       "4621045.235"
      ],
      "text/markdown": [
       "4621045.235"
      ],
      "text/plain": [
       "[1] 4621045"
      ]
     },
     "metadata": {},
     "output_type": "display_data"
    }
   ],
   "source": [
    "# this should be northing of first row\n",
    "df_dist(gcps[1,],gcps[2,])"
   ]
  },
  {
   "cell_type": "code",
   "execution_count": 39,
   "metadata": {},
   "outputs": [
    {
     "data": {
      "text/html": [
       "<table>\n",
       "<caption>A data.frame: 1 × 3</caption>\n",
       "<thead>\n",
       "\t<tr><th></th><th scope=col>northing</th><th scope=col>easting</th><th scope=col>elevation</th></tr>\n",
       "\t<tr><th></th><th scope=col>&lt;dbl&gt;</th><th scope=col>&lt;dbl&gt;</th><th scope=col>&lt;dbl&gt;</th></tr>\n",
       "</thead>\n",
       "<tbody>\n",
       "\t<tr><th scope=row>19</th><td>-164.19</td><td>-15.9064</td><td>-0.0196</td></tr>\n",
       "</tbody>\n",
       "</table>\n"
      ],
      "text/latex": [
       "A data.frame: 1 × 3\n",
       "\\begin{tabular}{r|lll}\n",
       "  & northing & easting & elevation\\\\\n",
       "  & <dbl> & <dbl> & <dbl>\\\\\n",
       "\\hline\n",
       "\t19 & -164.19 & -15.9064 & -0.0196\\\\\n",
       "\\end{tabular}\n"
      ],
      "text/markdown": [
       "\n",
       "A data.frame: 1 × 3\n",
       "\n",
       "| <!--/--> | northing &lt;dbl&gt; | easting &lt;dbl&gt; | elevation &lt;dbl&gt; |\n",
       "|---|---|---|---|\n",
       "| 19 | -164.19 | -15.9064 | -0.0196 |\n",
       "\n"
      ],
      "text/plain": [
       "   northing easting  elevation\n",
       "19 -164.19  -15.9064 -0.0196  "
      ]
     },
     "metadata": {},
     "output_type": "display_data"
    },
    {
     "data": {
      "text/html": [
       "<strong>19:</strong> 27211.3700449499"
      ],
      "text/latex": [
       "\\textbf{19:} 27211.3700449499"
      ],
      "text/markdown": [
       "**19:** 27211.3700449499"
      ],
      "text/plain": [
       "      19 \n",
       "27211.37 "
      ]
     },
     "metadata": {},
     "output_type": "display_data"
    },
    {
     "data": {
      "text/html": [
       "<strong>19:</strong> 180.115999999515"
      ],
      "text/latex": [
       "\\textbf{19:} 180.115999999515"
      ],
      "text/markdown": [
       "**19:** 180.115999999515"
      ],
      "text/plain": [
       "     19 \n",
       "180.116 "
      ]
     },
     "metadata": {},
     "output_type": "display_data"
    }
   ],
   "source": [
    "# see if we can do vector math\n",
    "gcps[1,1:3]-gcps[2,1:3]\n",
    "rowSums((gcps[1,1:3]-gcps[2,1:3])^2)\n",
    "sqrt(rowSums(gcps[1,1:3]-gcps[2,1:3])^2)"
   ]
  },
  {
   "cell_type": "code",
   "execution_count": 57,
   "metadata": {},
   "outputs": [],
   "source": [
    "# redefine the function in terms of dataframe rows\n",
    "df_dist <- function(dr1, dr2){\n",
    "    d = sqrt(rowSums(dr1[,1:3]-dr2[,1:3])^2)\n",
    "    return(d)\n",
    "}"
   ]
  },
  {
   "cell_type": "code",
   "execution_count": 43,
   "metadata": {},
   "outputs": [
    {
     "data": {
      "text/html": [
       "<strong>19:</strong> 180.115999999515"
      ],
      "text/latex": [
       "\\textbf{19:} 180.115999999515"
      ],
      "text/markdown": [
       "**19:** 180.115999999515"
      ],
      "text/plain": [
       "     19 \n",
       "180.116 "
      ]
     },
     "metadata": {},
     "output_type": "display_data"
    }
   ],
   "source": [
    "# test it\n",
    "df_dist(gcps[1,],gcps[2,])"
   ]
  },
  {
   "cell_type": "code",
   "execution_count": 48,
   "metadata": {},
   "outputs": [
    {
     "data": {
      "text/html": [
       "<table>\n",
       "<caption>A data.frame: 6 × 1</caption>\n",
       "<thead>\n",
       "\t<tr><th scope=col>dist</th></tr>\n",
       "\t<tr><th scope=col>&lt;lgl&gt;</th></tr>\n",
       "</thead>\n",
       "<tbody>\n",
       "\t<tr><td>NA</td></tr>\n",
       "\t<tr><td>NA</td></tr>\n",
       "\t<tr><td>NA</td></tr>\n",
       "\t<tr><td>NA</td></tr>\n",
       "\t<tr><td>NA</td></tr>\n",
       "\t<tr><td>NA</td></tr>\n",
       "</tbody>\n",
       "</table>\n"
      ],
      "text/latex": [
       "A data.frame: 6 × 1\n",
       "\\begin{tabular}{r|l}\n",
       " dist\\\\\n",
       " <lgl>\\\\\n",
       "\\hline\n",
       "\t NA\\\\\n",
       "\t NA\\\\\n",
       "\t NA\\\\\n",
       "\t NA\\\\\n",
       "\t NA\\\\\n",
       "\t NA\\\\\n",
       "\\end{tabular}\n"
      ],
      "text/markdown": [
       "\n",
       "A data.frame: 6 × 1\n",
       "\n",
       "| dist &lt;lgl&gt; |\n",
       "|---|\n",
       "| NA |\n",
       "| NA |\n",
       "| NA |\n",
       "| NA |\n",
       "| NA |\n",
       "| NA |\n",
       "\n"
      ],
      "text/plain": [
       "  dist\n",
       "1 NA  \n",
       "2 NA  \n",
       "3 NA  \n",
       "4 NA  \n",
       "5 NA  \n",
       "6 NA  "
      ]
     },
     "metadata": {},
     "output_type": "display_data"
    }
   ],
   "source": [
    "# make an empty dataframe\n",
    "nrows <- nrow(gcps)\n",
    "dis <- data.frame('dist'=rep(NA,nrows))\n",
    "head(dis)"
   ]
  },
  {
   "cell_type": "code",
   "execution_count": 65,
   "metadata": {},
   "outputs": [
    {
     "data": {
      "text/html": [
       "<table>\n",
       "<caption>A data.frame: 6 × 1</caption>\n",
       "<thead>\n",
       "\t<tr><th scope=col>dist</th></tr>\n",
       "\t<tr><th scope=col>&lt;dbl&gt;</th></tr>\n",
       "</thead>\n",
       "<tbody>\n",
       "\t<tr><td>180.1160</td></tr>\n",
       "\t<tr><td>  4.6503</td></tr>\n",
       "\t<tr><td>163.7061</td></tr>\n",
       "\t<tr><td>221.8125</td></tr>\n",
       "\t<tr><td>432.6744</td></tr>\n",
       "\t<tr><td> 98.0818</td></tr>\n",
       "</tbody>\n",
       "</table>\n"
      ],
      "text/latex": [
       "A data.frame: 6 × 1\n",
       "\\begin{tabular}{r|l}\n",
       " dist\\\\\n",
       " <dbl>\\\\\n",
       "\\hline\n",
       "\t 180.1160\\\\\n",
       "\t   4.6503\\\\\n",
       "\t 163.7061\\\\\n",
       "\t 221.8125\\\\\n",
       "\t 432.6744\\\\\n",
       "\t  98.0818\\\\\n",
       "\\end{tabular}\n"
      ],
      "text/markdown": [
       "\n",
       "A data.frame: 6 × 1\n",
       "\n",
       "| dist &lt;dbl&gt; |\n",
       "|---|\n",
       "| 180.1160 |\n",
       "|   4.6503 |\n",
       "| 163.7061 |\n",
       "| 221.8125 |\n",
       "| 432.6744 |\n",
       "|  98.0818 |\n",
       "\n"
      ],
      "text/plain": [
       "  dist    \n",
       "1 180.1160\n",
       "2   4.6503\n",
       "3 163.7061\n",
       "4 221.8125\n",
       "5 432.6744\n",
       "6  98.0818"
      ]
     },
     "metadata": {},
     "output_type": "display_data"
    },
    {
     "data": {
      "text/html": [
       "<table>\n",
       "<caption>A data.frame: 6 × 1</caption>\n",
       "<thead>\n",
       "\t<tr><th></th><th scope=col>dist</th></tr>\n",
       "\t<tr><th></th><th scope=col>&lt;dbl&gt;</th></tr>\n",
       "</thead>\n",
       "<tbody>\n",
       "\t<tr><th scope=row>38</th><td>678.3973</td></tr>\n",
       "\t<tr><th scope=row>39</th><td>188.2639</td></tr>\n",
       "\t<tr><th scope=row>40</th><td> 58.4049</td></tr>\n",
       "\t<tr><th scope=row>41</th><td>251.7013</td></tr>\n",
       "\t<tr><th scope=row>42</th><td>654.9148</td></tr>\n",
       "\t<tr><th scope=row>43</th><td>      NA</td></tr>\n",
       "</tbody>\n",
       "</table>\n"
      ],
      "text/latex": [
       "A data.frame: 6 × 1\n",
       "\\begin{tabular}{r|l}\n",
       "  & dist\\\\\n",
       "  & <dbl>\\\\\n",
       "\\hline\n",
       "\t38 & 678.3973\\\\\n",
       "\t39 & 188.2639\\\\\n",
       "\t40 &  58.4049\\\\\n",
       "\t41 & 251.7013\\\\\n",
       "\t42 & 654.9148\\\\\n",
       "\t43 &       NA\\\\\n",
       "\\end{tabular}\n"
      ],
      "text/markdown": [
       "\n",
       "A data.frame: 6 × 1\n",
       "\n",
       "| <!--/--> | dist &lt;dbl&gt; |\n",
       "|---|---|\n",
       "| 38 | 678.3973 |\n",
       "| 39 | 188.2639 |\n",
       "| 40 |  58.4049 |\n",
       "| 41 | 251.7013 |\n",
       "| 42 | 654.9148 |\n",
       "| 43 |       NA |\n",
       "\n"
      ],
      "text/plain": [
       "   dist    \n",
       "38 678.3973\n",
       "39 188.2639\n",
       "40  58.4049\n",
       "41 251.7013\n",
       "42 654.9148\n",
       "43       NA"
      ]
     },
     "metadata": {},
     "output_type": "display_data"
    }
   ],
   "source": [
    "# old-school loop. Surprisingly, this does not throw an error when i=nrows\n",
    "for(i in 1:nrow(gcps)){\n",
    "    dis[i,] <- df_dist( gcps[i,], gcps[i+1,])\n",
    "}\n",
    "head(dis)\n",
    "tail(dis)"
   ]
  },
  {
   "cell_type": "code",
   "execution_count": 71,
   "metadata": {},
   "outputs": [
    {
     "data": {
      "text/html": [
       "<table>\n",
       "<caption>A data.frame: 11 × 5</caption>\n",
       "<thead>\n",
       "\t<tr><th></th><th scope=col>northing</th><th scope=col>easting</th><th scope=col>elevation</th><th scope=col>label</th><th scope=col>dist_to_next</th></tr>\n",
       "\t<tr><th></th><th scope=col>&lt;dbl&gt;</th><th scope=col>&lt;dbl&gt;</th><th scope=col>&lt;dbl&gt;</th><th scope=col>&lt;fct&gt;</th><th scope=col>&lt;dbl&gt;</th></tr>\n",
       "</thead>\n",
       "<tbody>\n",
       "\t<tr><th scope=row>42</th><td>4621594</td><td>385924.9</td><td> 3.2540</td><td>GLITTER-WEST</td><td>3.320000e-02</td></tr>\n",
       "\t<tr><th scope=row>31</th><td>4621285</td><td>386001.1</td><td> 7.7577</td><td>T1          </td><td>8.800000e-03</td></tr>\n",
       "\t<tr><th scope=row>30</th><td>4621285</td><td>386001.1</td><td> 7.7547</td><td>T1          </td><td>7.050000e-02</td></tr>\n",
       "\t<tr><th scope=row>7</th><td>4621469</td><td>386152.2</td><td> 9.1033</td><td>T6          </td><td>5.060000e-02</td></tr>\n",
       "\t<tr><th scope=row>6</th><td>4621469</td><td>386152.2</td><td> 9.1103</td><td>T6          </td><td>2.930000e-02</td></tr>\n",
       "\t<tr><th scope=row>8</th><td>4621200</td><td>386169.4</td><td>10.2482</td><td>T5          </td><td>3.130000e-02</td></tr>\n",
       "\t<tr><th scope=row>9</th><td>4621200</td><td>386169.4</td><td>10.2339</td><td>T5          </td><td>9.880000e-02</td></tr>\n",
       "\t<tr><th scope=row>4</th><td>4621317</td><td>386314.7</td><td> 6.2363</td><td>T8          </td><td>1.850000e-02</td></tr>\n",
       "\t<tr><th scope=row>2</th><td>4621317</td><td>386314.7</td><td> 6.2556</td><td>T8          </td><td>1.130000e-02</td></tr>\n",
       "\t<tr><th scope=row>40</th><td>4621528</td><td>386360.8</td><td> 2.6960</td><td>GLITTER-EAST</td><td>2.591873e-10</td></tr>\n",
       "\t<tr><th scope=row>NA</th><td>     NA</td><td>      NA</td><td>     NA</td><td>NA          </td><td>          NA</td></tr>\n",
       "</tbody>\n",
       "</table>\n"
      ],
      "text/latex": [
       "A data.frame: 11 × 5\n",
       "\\begin{tabular}{r|lllll}\n",
       "  & northing & easting & elevation & label & dist\\_to\\_next\\\\\n",
       "  & <dbl> & <dbl> & <dbl> & <fct> & <dbl>\\\\\n",
       "\\hline\n",
       "\t42 & 4621594 & 385924.9 &  3.2540 & GLITTER-WEST & 3.320000e-02\\\\\n",
       "\t31 & 4621285 & 386001.1 &  7.7577 & T1           & 8.800000e-03\\\\\n",
       "\t30 & 4621285 & 386001.1 &  7.7547 & T1           & 7.050000e-02\\\\\n",
       "\t7 & 4621469 & 386152.2 &  9.1033 & T6           & 5.060000e-02\\\\\n",
       "\t6 & 4621469 & 386152.2 &  9.1103 & T6           & 2.930000e-02\\\\\n",
       "\t8 & 4621200 & 386169.4 & 10.2482 & T5           & 3.130000e-02\\\\\n",
       "\t9 & 4621200 & 386169.4 & 10.2339 & T5           & 9.880000e-02\\\\\n",
       "\t4 & 4621317 & 386314.7 &  6.2363 & T8           & 1.850000e-02\\\\\n",
       "\t2 & 4621317 & 386314.7 &  6.2556 & T8           & 1.130000e-02\\\\\n",
       "\t40 & 4621528 & 386360.8 &  2.6960 & GLITTER-EAST & 2.591873e-10\\\\\n",
       "\tNA &      NA &       NA &      NA & NA           &           NA\\\\\n",
       "\\end{tabular}\n"
      ],
      "text/markdown": [
       "\n",
       "A data.frame: 11 × 5\n",
       "\n",
       "| <!--/--> | northing &lt;dbl&gt; | easting &lt;dbl&gt; | elevation &lt;dbl&gt; | label &lt;fct&gt; | dist_to_next &lt;dbl&gt; |\n",
       "|---|---|---|---|---|---|\n",
       "| 42 | 4621594 | 385924.9 |  3.2540 | GLITTER-WEST | 3.320000e-02 |\n",
       "| 31 | 4621285 | 386001.1 |  7.7577 | T1           | 8.800000e-03 |\n",
       "| 30 | 4621285 | 386001.1 |  7.7547 | T1           | 7.050000e-02 |\n",
       "| 7 | 4621469 | 386152.2 |  9.1033 | T6           | 5.060000e-02 |\n",
       "| 6 | 4621469 | 386152.2 |  9.1103 | T6           | 2.930000e-02 |\n",
       "| 8 | 4621200 | 386169.4 | 10.2482 | T5           | 3.130000e-02 |\n",
       "| 9 | 4621200 | 386169.4 | 10.2339 | T5           | 9.880000e-02 |\n",
       "| 4 | 4621317 | 386314.7 |  6.2363 | T8           | 1.850000e-02 |\n",
       "| 2 | 4621317 | 386314.7 |  6.2556 | T8           | 1.130000e-02 |\n",
       "| 40 | 4621528 | 386360.8 |  2.6960 | GLITTER-EAST | 2.591873e-10 |\n",
       "| NA |      NA |       NA |      NA | NA           |           NA |\n",
       "\n"
      ],
      "text/plain": [
       "   northing easting  elevation label        dist_to_next\n",
       "42 4621594  385924.9  3.2540   GLITTER-WEST 3.320000e-02\n",
       "31 4621285  386001.1  7.7577   T1           8.800000e-03\n",
       "30 4621285  386001.1  7.7547   T1           7.050000e-02\n",
       "7  4621469  386152.2  9.1033   T6           5.060000e-02\n",
       "6  4621469  386152.2  9.1103   T6           2.930000e-02\n",
       "8  4621200  386169.4 10.2482   T5           3.130000e-02\n",
       "9  4621200  386169.4 10.2339   T5           9.880000e-02\n",
       "4  4621317  386314.7  6.2363   T8           1.850000e-02\n",
       "2  4621317  386314.7  6.2556   T8           1.130000e-02\n",
       "40 4621528  386360.8  2.6960   GLITTER-EAST 2.591873e-10\n",
       "NA      NA        NA      NA   NA                     NA"
      ]
     },
     "metadata": {},
     "output_type": "display_data"
    }
   ],
   "source": [
    "# add that column to our dataframe\n",
    "gcps['dist_to_next']<-dis\n",
    "# and list the ones that look pretty close\n",
    "gcps[gcps['dist_to_next']<3.,]"
   ]
  },
  {
   "cell_type": "code",
   "execution_count": null,
   "metadata": {},
   "outputs": [],
   "source": [
    "# this is not really what we want, because it does not show the value above"
   ]
  }
 ],
 "metadata": {
  "kernelspec": {
   "display_name": "R",
   "language": "R",
   "name": "ir"
  },
  "language_info": {
   "codemirror_mode": "r",
   "file_extension": ".r",
   "mimetype": "text/x-r-source",
   "name": "R",
   "pygments_lexer": "r",
   "version": "3.5.1"
  }
 },
 "nbformat": 4,
 "nbformat_minor": 2
}
